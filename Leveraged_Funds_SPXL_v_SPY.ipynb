{
  "nbformat": 4,
  "nbformat_minor": 0,
  "metadata": {
    "colab": {
      "name": "Leveraged Funds: SPXL v SPY",
      "provenance": [],
      "collapsed_sections": []
    },
    "kernelspec": {
      "name": "python3",
      "display_name": "Python 3"
    },
    "language_info": {
      "name": "python"
    }
  },
  "cells": [
    {
      "cell_type": "code",
      "metadata": {
        "id": "1M7ewyIv8ZM0"
      },
      "source": [
        "import pandas as pd\n",
        "import numpy as np\n",
        "import matplotlib.pyplot as plt"
      ],
      "execution_count": 17,
      "outputs": []
    },
    {
      "cell_type": "code",
      "metadata": {
        "id": "pLP4rT218e2O"
      },
      "source": [
        "# Creating a dataframe with SPY's historic prices since 1993\n",
        "df_sp = pd.read_csv('/content/drive/MyDrive/SPY-2.csv')"
      ],
      "execution_count": 18,
      "outputs": []
    },
    {
      "cell_type": "code",
      "metadata": {
        "id": "lqaniZC2Baup"
      },
      "source": [
        "# Assigning arrays to SPY's open and close prices and dates\n",
        "open_sp = np.array(df_sp['Open'])\n",
        "close_sp = np.array(df_sp['Close'])\n",
        "date = np.array(df_sp['Date'])\n",
        "\n",
        "# Creating an array that consists of all the daily returns in SPY\n",
        "daily_returns_sp = (close_sp - open_sp)/open_sp"
      ],
      "execution_count": 19,
      "outputs": []
    },
    {
      "cell_type": "code",
      "metadata": {
        "colab": {
          "base_uri": "https://localhost:8080/",
          "height": 267
        },
        "id": "NbK4Bq7EK9nC",
        "outputId": "e4b3fa26-3a28-4d24-e7fd-1fee0d8b5382"
      },
      "source": [
        "# Plotting the daily returns VS respect to time\n",
        "plt.scatter(date, daily_returns_sp)\n",
        "plt.show()"
      ],
      "execution_count": 5,
      "outputs": [
        {
          "output_type": "display_data",
          "data": {
            "image/png": "[encoded data removed]",
            "text/plain": [
              "<Figure size 432x288 with 1 Axes>"
            ]
          },
          "metadata": {
            "tags": [],
            "needs_background": "light"
          }
        }
      ]
    },
    {
      "cell_type": "code",
      "metadata": {
        "id": "VrmNggAtlnpb"
      },
      "source": [
        "simulated_yearly_returns_sp = []\n",
        "simulated_yearly_returns_3x_sp = []"
      ],
      "execution_count": 20,
      "outputs": []
    },
    {
      "cell_type": "code",
      "metadata": {
        "id": "-eT7w7unl4gk"
      },
      "source": [
        "# 10,000 simulated \"years\"\n",
        "for i in range(10000):\n",
        "\n",
        "  # Since there are 250 trading days in a year, \n",
        "  # randomly selecting 250 daily return rates from SPY since 1993 (with replacement)\n",
        "  simulated_dr = np.random.choice(daily_returns_sp, 250)\n",
        "\n",
        "  # Finding and appending the yearly return in the S&P based on the 250 simulated daily returns that make up a year\n",
        "  simulated_yearly_returns_sp.append(100*np.product(1 + simulated_dr) - 100)\n",
        "\n",
        "  # Finding and appending the yearly return in the leveraged ETF by multiplying the simulated daily returns by 3\n",
        "  simulated_yearly_returns_3x_sp.append(100*np.product(1 + 3*simulated_dr) - 100)"
      ],
      "execution_count": 21,
      "outputs": []
    },
    {
      "cell_type": "code",
      "metadata": {
        "colab": {
          "base_uri": "https://localhost:8080/",
          "height": 279
        },
        "id": "7HRIGMUdmb7S",
        "outputId": "d6427bec-5bb3-431b-e176-1c0516222802"
      },
      "source": [
        "# Plotting the simulated returns of a 3x leveraged fund vs that of the underlying (1x) fund\n",
        "\n",
        "plt.scatter(simulated_yearly_returns_sp, simulated_yearly_returns_3x_sp)\n",
        "plt.xlabel('1x S&P yearly return (%)')\n",
        "plt.ylabel('3x S&P yearly return (%)')\n",
        "plt.show()"
      ],
      "execution_count": 22,
      "outputs": [
        {
          "output_type": "display_data",
          "data": {
            "image/png": "[encoded data removed]",
            "text/plain": [
              "<Figure size 432x288 with 1 Axes>"
            ]
          },
          "metadata": {
            "tags": [],
            "needs_background": "light"
          }
        }
      ]
    },
    {
      "cell_type": "code",
      "metadata": {
        "id": "hGLUUjjZXwmm"
      },
      "source": [
        "# Can see that 3x daily leverage is NOT a double-edged sword in the long run\n",
        "# The leveraged fund overperforms the 3x target if the underlying has a positive return (so if the underlying has a 5% return one year, the 3x fund has a return of MORE than 15%)\n",
        "# On the other hand, the leveraged fund underperforms the 3x target if the underlying has a negative return (so if the underlying has a 5% decline one year, the 3x fund declines by LESS than 15%)"
      ],
      "execution_count": 23,
      "outputs": []
    },
    {
      "cell_type": "code",
      "metadata": {
        "id": "FKV5MWQdR9y9"
      },
      "source": [
        "# Fitting a 3rd degree (cubic) polynomial model to the data\n",
        "model_sp = np.poly1d(np.polyfit(simulated_yearly_returns_sp, simulated_yearly_returns_3x_sp, 3))\n",
        "x_sp = np.linspace(-100, 100, num=200)"
      ],
      "execution_count": 24,
      "outputs": []
    },
    {
      "cell_type": "code",
      "metadata": {
        "colab": {
          "base_uri": "https://localhost:8080/",
          "height": 279
        },
        "id": "Xjgz1EhgSf-z",
        "outputId": "5ea2f5d4-bb8c-45f8-a1fd-49513e36c7b1"
      },
      "source": [
        "plt.scatter(simulated_yearly_returns_sp, simulated_yearly_returns_3x_sp)\n",
        "plt.xlabel('1x S&P (SPXL) yearly return (%)')\n",
        "plt.ylabel('3x S&P (SPY) yearly return (%)')\n",
        "plt.plot(x_sp, model_sp(x_sp))\n",
        "plt.show()"
      ],
      "execution_count": 25,
      "outputs": [
        {
          "output_type": "display_data",
          "data": {
            "image/png": "[encoded data removed]",
            "text/plain": [
              "<Figure size 432x288 with 1 Axes>"
            ]
          },
          "metadata": {
            "tags": [],
            "needs_background": "light"
          }
        }
      ]
    },
    {
      "cell_type": "code",
      "metadata": {
        "colab": {
          "base_uri": "https://localhost:8080/"
        },
        "id": "LuJbpSx_Ssnj",
        "outputId": "3ce98037-5b9c-4a0f-92c1-0a7d4e813ded"
      },
      "source": [
        "model_sp.coefficients"
      ],
      "execution_count": 26,
      "outputs": [
        {
          "output_type": "execute_result",
          "data": {
            "text/plain": [
              "array([ 8.32600545e-05,  2.76518490e-02,  2.81215589e+00, -6.66582031e+00])"
            ]
          },
          "metadata": {
            "tags": []
          },
          "execution_count": 26
        }
      ]
    },
    {
      "cell_type": "code",
      "metadata": {
        "id": "qI83L_ONF71f"
      },
      "source": [
        "# Testing the model to see how it performs with actual historical data since 2009 (when SPXL was established)\n",
        "# Inputting SPY's yearly return to the model in the \"predicted\" list\n",
        "# And setting the \"actual\" list equal to the actual return of SPXL\n",
        "predicted = [model_sp(18.25), model_sp(31.29), model_sp(-4.45), model_sp(21.69), model_sp(11.8), model_sp(1.34), model_sp(13.53), model_sp(32.21), model_sp(15.84), model_sp(2.06), model_sp(14.92), model_sp(26.42)]\n",
        "actual = [9.73, 103.30, -24.86, 70.89, 29.37, -5.48, 37.82, 117.94, 44.00, -14.57, 38.89, 64.02]"
      ],
      "execution_count": 27,
      "outputs": []
    },
    {
      "cell_type": "code",
      "metadata": {
        "id": "zo0iMPvFwIme"
      },
      "source": [
        "average_error = 0\n",
        "for i in range(len(actual)):\n",
        "  average_error += abs(actual[i]-predicted[i])\n",
        "average_error /= 12"
      ],
      "execution_count": 29,
      "outputs": []
    },
    {
      "cell_type": "code",
      "metadata": {
        "colab": {
          "base_uri": "https://localhost:8080/"
        },
        "id": "rf2jCeMj2qBV",
        "outputId": "2965e363-c651-428a-daba-a1a7a6a50154"
      },
      "source": [
        "average_error"
      ],
      "execution_count": 30,
      "outputs": [
        {
          "output_type": "execute_result",
          "data": {
            "text/plain": [
              "9.245865921247796"
            ]
          },
          "metadata": {
            "tags": []
          },
          "execution_count": 30
        }
      ]
    },
    {
      "cell_type": "code",
      "metadata": {
        "colab": {
          "base_uri": "https://localhost:8080/",
          "height": 282
        },
        "id": "J3o90u8G2sc3",
        "outputId": "5c06c280-cbff-4f8d-b2a8-77532c6dd1f4"
      },
      "source": [
        "# Seeing how the predictions compare to the actual data\n",
        "plt.scatter([i for i in range(12)], predicted)\n",
        "plt.scatter([i for i in range(12)], actual)"
      ],
      "execution_count": null,
      "outputs": [
        {
          "output_type": "execute_result",
          "data": {
            "text/plain": [
              "<matplotlib.collections.PathCollection at 0x7f48b9c9b1d0>"
            ]
          },
          "metadata": {
            "tags": []
          },
          "execution_count": 33
        },
        {
          "output_type": "display_data",
          "data": {
            "image/png": "[encoded data removed]",
            "text/plain": [
              "<Figure size 432x288 with 1 Axes>"
            ]
          },
          "metadata": {
            "tags": [],
            "needs_background": "light"
          }
        }
      ]
    },
    {
      "cell_type": "markdown",
      "metadata": {
        "id": "3Hx8TXLd27TM"
      },
      "source": [
        "Next steps:\n",
        "\n",
        "\n",
        "*   Further testing\n",
        "*   Finding a function that gives the estimated return of the leveraged ETF based on the time (T), volatility (sigma), leverage (x), and underlying return (r).\n",
        "\n"
      ]
    }
  ]
}